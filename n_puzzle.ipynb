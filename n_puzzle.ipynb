{
  "cells": [
    {
      "cell_type": "markdown",
      "metadata": {
        "id": "BIKbbk9WmDvH"
      },
      "source": [
        "Copyright **`(c)`** 2024 Giovanni Squillero `<giovanni.squillero@polito.it>`  \n",
        "[`https://github.com/squillero/computational-intelligence`](https://github.com/squillero/computational-intelligence)  \n",
        "Free under certain conditions — see the [`license`](https://github.com/squillero/computational-intelligence/blob/master/LICENSE.md) for details.  "
      ]
    },
    {
      "cell_type": "code",
      "execution_count": null,
      "metadata": {
        "id": "gJGN3oj7mDvR"
      },
      "outputs": [],
      "source": [
        "from collections import namedtuple\n",
        "from random import choice\n",
        "from tqdm.auto import tqdm\n",
        "import numpy as np"
      ]
    },
    {
      "cell_type": "code",
      "execution_count": null,
      "metadata": {
        "id": "JUsGHW4wmDvW"
      },
      "outputs": [],
      "source": [
        "def available_actions(state: np.ndarray) -> list['Action']:\n",
        "    x, y = [int(_[0]) for _ in np.where(state == 0)]\n",
        "    actions = list()\n",
        "    if x > 0:\n",
        "        actions.append(action((x, y), (x - 1, y)))\n",
        "    if x < PUZZLE_DIM - 1:\n",
        "        actions.append(action((x, y), (x + 1, y)))\n",
        "    if y > 0:\n",
        "        actions.append(action((x, y), (x, y - 1)))\n",
        "    if y < PUZZLE_DIM - 1:\n",
        "        actions.append(action((x, y), (x, y + 1)))\n",
        "    return actions\n",
        "\n",
        "\n",
        "\n",
        "def do_action(state: np.ndarray, action: 'Action') -> np.ndarray:\n",
        "    new_state = state.copy()\n",
        "    new_state[action.pos1], new_state[action.pos2] = new_state[action.pos2], new_state[action.pos1]\n",
        "    return new_state"
      ]
    },
    {
      "cell_type": "code",
      "execution_count": null,
      "metadata": {
        "id": "U-Ml-Ot7q1BS"
      },
      "outputs": [],
      "source": [
        "def calc_manhattan(state):\n",
        "  tot_dist = 0\n",
        "  for i in range(len(state)):\n",
        "    for j in range(len(state[i])):\n",
        "      if state[i][j]==0:\n",
        "        state[i][j]=len(state[i])**2\n",
        "        x=(state[i][j]-1)//len(state[i])\n",
        "        y=(state[i][j]-1)%len(state[i])\n",
        "        tot_dist+=abs(x-i)+abs(y-j)\n",
        "        state[i][j]=0\n",
        "      else:\n",
        "        x=(state[i][j]-1)//len(state[i])\n",
        "        y=(state[i][j]-1)%len(state[i])\n",
        "        tot_dist+=abs(x-i)+abs(y-j)\n",
        "  return tot_dist"
      ]
    },
    {
      "cell_type": "code",
      "execution_count": null,
      "metadata": {
        "id": "STwGVrJzmDvU"
      },
      "outputs": [],
      "source": [
        "PUZZLE_DIM = 5\n",
        "action = namedtuple('Action', ['pos1', 'pos2'])"
      ]
    },
    {
      "cell_type": "code",
      "execution_count": null,
      "metadata": {
        "colab": {
          "base_uri": "https://localhost:8080/",
          "height": 136,
          "referenced_widgets": [
            "e88c29a0e9d6402887b3cbae67c91c75",
            "1cf4df0bab9e4825ad13d2ef1173de78",
            "1a2aae29c6754426961445f46b4c4c6e",
            "2a3db735b87c4a5fa794b291c587993b",
            "de7e4076977a4521907719635521715f",
            "8d7a0a463b5e4efaa11316ef9603266d",
            "07de5417df0f4138ac94c152dbc5b127",
            "38daa37e84cf4da09349e3c305c92c78",
            "49c45121d4dd443eb9912dfb48fbc341",
            "d93e1c5bea20408b82e8b0be5ae2f63f",
            "9d1c8f6b578f47c49824fdfbb2342c8f"
          ]
        },
        "id": "025NJOatmDvY",
        "outputId": "7f212bbc-3c05-437a-c383-ec09a0be8813"
      },
      "outputs": [
        {
          "data": {
            "application/vnd.jupyter.widget-view+json": {
              "model_id": "e88c29a0e9d6402887b3cbae67c91c75",
              "version_major": 2,
              "version_minor": 0
            },
            "text/plain": [
              "Randomizing:   0%|          | 0/80 [00:00<?, ?it/s]"
            ]
          },
          "metadata": {},
          "output_type": "display_data"
        },
        {
          "name": "stdout",
          "output_type": "stream",
          "text": [
            "[[ 1  2  9  4 10]\n",
            " [ 6  7  3 14 13]\n",
            " [16 11  8  5 15]\n",
            " [12 22 17 19 20]\n",
            " [ 0 21 18 23 24]]\n"
          ]
        }
      ],
      "source": [
        "RANDOMIZE_STEPS = 80\n",
        "state = np.array([i for i in range(1, PUZZLE_DIM**2)] + [0]).reshape((PUZZLE_DIM, PUZZLE_DIM))\n",
        "for r in tqdm(range(RANDOMIZE_STEPS), desc='Randomizing'):\n",
        "    state = do_action(state, choice(available_actions(state)))\n",
        "print(state)"
      ]
    },
    {
      "cell_type": "code",
      "execution_count": null,
      "metadata": {
        "id": "6g454QwyCbHj"
      },
      "outputs": [],
      "source": [
        "ideal_state = np.array([i for i in range(1, PUZZLE_DIM**2)] + [0]).reshape((PUZZLE_DIM, PUZZLE_DIM))\n",
        "states_list=[[state,0,calc_manhattan(state)]]\n",
        "state = states_list[0]"
      ]
    },
    {
      "cell_type": "code",
      "execution_count": null,
      "metadata": {
        "colab": {
          "base_uri": "https://localhost:8080/"
        },
        "id": "HTXjO1lmHef6",
        "outputId": "3ede144f-3abb-429b-df88-ab0ce9de44ed"
      },
      "outputs": [
        {
          "name": "stdout",
          "output_type": "stream",
          "text": [
            "[[array([[ 1,  2,  9,  4, 10],\n",
            "       [ 6,  7,  3, 14, 13],\n",
            "       [16, 11,  8,  5, 15],\n",
            "       [12, 22, 17, 19, 20],\n",
            "       [ 0, 21, 18, 23, 24]]), 0, 26]]\n"
          ]
        }
      ],
      "source": [
        "print(states_list)"
      ]
    },
    {
      "cell_type": "code",
      "execution_count": null,
      "metadata": {
        "colab": {
          "background_save": true
        },
        "id": "_VisU8U0mDvc",
        "outputId": "742b533b-cf43-417c-b16d-93b7c3f0f070"
      },
      "outputs": [
        {
          "name": "stdout",
          "output_type": "stream",
          "text": [
            "Solution: [[ 1  2  3  4  5]\n",
            " [ 6  7  8  9 10]\n",
            " [11 12 13 14 15]\n",
            " [16 17 18 19 20]\n",
            " [21 22 23 24  0]]\n",
            "Number of steps to solve: 32\n",
            "Total number of steps: 84218\n"
          ]
        }
      ],
      "source": [
        "y=0\n",
        "while not np.array_equal(state[0], ideal_state):\n",
        "  for i in available_actions(state[0]):\n",
        "    new_state = do_action(state[0], i)\n",
        "    y+=1\n",
        "    is_in=any(np.array_equal(new_state, state_info[0]) for state_info in states_list)\n",
        "    if not is_in:\n",
        "      cost=calc_manhattan(new_state)+state[1]+1\n",
        "      states_list.append([new_state,state[1]+1,cost])\n",
        "  states_list.pop(0)\n",
        "  states_list.sort(key=lambda x: x[2])\n",
        "  state = states_list[0]\n",
        "print(\"Solution:\",state[0])\n",
        "print(\"Number of steps to solve:\", state[1])\n",
        "print(\"Total number of steps:\", y)"
      ]
    }
  ],
  "metadata": {
    "colab": {
      "provenance": []
    },
    "kernelspec": {
      "display_name": "ci-WEKR9SVn-py3.12",
      "language": "python",
      "name": "python3"
    },
    "language_info": {
      "codemirror_mode": {
        "name": "ipython",
        "version": 3
      },
      "file_extension": ".py",
      "mimetype": "text/x-python",
      "name": "python",
      "nbconvert_exporter": "python",
      "pygments_lexer": "ipython3",
      "version": "3.12.7"
    },
    "widgets": {
      "application/vnd.jupyter.widget-state+json": {
        "07de5417df0f4138ac94c152dbc5b127": {
          "model_module": "@jupyter-widgets/controls",
          "model_module_version": "1.5.0",
          "model_name": "DescriptionStyleModel",
          "state": {
            "_model_module": "@jupyter-widgets/controls",
            "_model_module_version": "1.5.0",
            "_model_name": "DescriptionStyleModel",
            "_view_count": null,
            "_view_module": "@jupyter-widgets/base",
            "_view_module_version": "1.2.0",
            "_view_name": "StyleView",
            "description_width": ""
          }
        },
        "1a2aae29c6754426961445f46b4c4c6e": {
          "model_module": "@jupyter-widgets/controls",
          "model_module_version": "1.5.0",
          "model_name": "FloatProgressModel",
          "state": {
            "_dom_classes": [],
            "_model_module": "@jupyter-widgets/controls",
            "_model_module_version": "1.5.0",
            "_model_name": "FloatProgressModel",
            "_view_count": null,
            "_view_module": "@jupyter-widgets/controls",
            "_view_module_version": "1.5.0",
            "_view_name": "ProgressView",
            "bar_style": "success",
            "description": "",
            "description_tooltip": null,
            "layout": "IPY_MODEL_38daa37e84cf4da09349e3c305c92c78",
            "max": 80,
            "min": 0,
            "orientation": "horizontal",
            "style": "IPY_MODEL_49c45121d4dd443eb9912dfb48fbc341",
            "value": 80
          }
        },
        "1cf4df0bab9e4825ad13d2ef1173de78": {
          "model_module": "@jupyter-widgets/controls",
          "model_module_version": "1.5.0",
          "model_name": "HTMLModel",
          "state": {
            "_dom_classes": [],
            "_model_module": "@jupyter-widgets/controls",
            "_model_module_version": "1.5.0",
            "_model_name": "HTMLModel",
            "_view_count": null,
            "_view_module": "@jupyter-widgets/controls",
            "_view_module_version": "1.5.0",
            "_view_name": "HTMLView",
            "description": "",
            "description_tooltip": null,
            "layout": "IPY_MODEL_8d7a0a463b5e4efaa11316ef9603266d",
            "placeholder": "​",
            "style": "IPY_MODEL_07de5417df0f4138ac94c152dbc5b127",
            "value": "Randomizing: 100%"
          }
        },
        "2a3db735b87c4a5fa794b291c587993b": {
          "model_module": "@jupyter-widgets/controls",
          "model_module_version": "1.5.0",
          "model_name": "HTMLModel",
          "state": {
            "_dom_classes": [],
            "_model_module": "@jupyter-widgets/controls",
            "_model_module_version": "1.5.0",
            "_model_name": "HTMLModel",
            "_view_count": null,
            "_view_module": "@jupyter-widgets/controls",
            "_view_module_version": "1.5.0",
            "_view_name": "HTMLView",
            "description": "",
            "description_tooltip": null,
            "layout": "IPY_MODEL_d93e1c5bea20408b82e8b0be5ae2f63f",
            "placeholder": "​",
            "style": "IPY_MODEL_9d1c8f6b578f47c49824fdfbb2342c8f",
            "value": " 80/80 [00:00&lt;00:00, 3080.71it/s]"
          }
        },
        "38daa37e84cf4da09349e3c305c92c78": {
          "model_module": "@jupyter-widgets/base",
          "model_module_version": "1.2.0",
          "model_name": "LayoutModel",
          "state": {
            "_model_module": "@jupyter-widgets/base",
            "_model_module_version": "1.2.0",
            "_model_name": "LayoutModel",
            "_view_count": null,
            "_view_module": "@jupyter-widgets/base",
            "_view_module_version": "1.2.0",
            "_view_name": "LayoutView",
            "align_content": null,
            "align_items": null,
            "align_self": null,
            "border": null,
            "bottom": null,
            "display": null,
            "flex": null,
            "flex_flow": null,
            "grid_area": null,
            "grid_auto_columns": null,
            "grid_auto_flow": null,
            "grid_auto_rows": null,
            "grid_column": null,
            "grid_gap": null,
            "grid_row": null,
            "grid_template_areas": null,
            "grid_template_columns": null,
            "grid_template_rows": null,
            "height": null,
            "justify_content": null,
            "justify_items": null,
            "left": null,
            "margin": null,
            "max_height": null,
            "max_width": null,
            "min_height": null,
            "min_width": null,
            "object_fit": null,
            "object_position": null,
            "order": null,
            "overflow": null,
            "overflow_x": null,
            "overflow_y": null,
            "padding": null,
            "right": null,
            "top": null,
            "visibility": null,
            "width": null
          }
        },
        "49c45121d4dd443eb9912dfb48fbc341": {
          "model_module": "@jupyter-widgets/controls",
          "model_module_version": "1.5.0",
          "model_name": "ProgressStyleModel",
          "state": {
            "_model_module": "@jupyter-widgets/controls",
            "_model_module_version": "1.5.0",
            "_model_name": "ProgressStyleModel",
            "_view_count": null,
            "_view_module": "@jupyter-widgets/base",
            "_view_module_version": "1.2.0",
            "_view_name": "StyleView",
            "bar_color": null,
            "description_width": ""
          }
        },
        "8d7a0a463b5e4efaa11316ef9603266d": {
          "model_module": "@jupyter-widgets/base",
          "model_module_version": "1.2.0",
          "model_name": "LayoutModel",
          "state": {
            "_model_module": "@jupyter-widgets/base",
            "_model_module_version": "1.2.0",
            "_model_name": "LayoutModel",
            "_view_count": null,
            "_view_module": "@jupyter-widgets/base",
            "_view_module_version": "1.2.0",
            "_view_name": "LayoutView",
            "align_content": null,
            "align_items": null,
            "align_self": null,
            "border": null,
            "bottom": null,
            "display": null,
            "flex": null,
            "flex_flow": null,
            "grid_area": null,
            "grid_auto_columns": null,
            "grid_auto_flow": null,
            "grid_auto_rows": null,
            "grid_column": null,
            "grid_gap": null,
            "grid_row": null,
            "grid_template_areas": null,
            "grid_template_columns": null,
            "grid_template_rows": null,
            "height": null,
            "justify_content": null,
            "justify_items": null,
            "left": null,
            "margin": null,
            "max_height": null,
            "max_width": null,
            "min_height": null,
            "min_width": null,
            "object_fit": null,
            "object_position": null,
            "order": null,
            "overflow": null,
            "overflow_x": null,
            "overflow_y": null,
            "padding": null,
            "right": null,
            "top": null,
            "visibility": null,
            "width": null
          }
        },
        "9d1c8f6b578f47c49824fdfbb2342c8f": {
          "model_module": "@jupyter-widgets/controls",
          "model_module_version": "1.5.0",
          "model_name": "DescriptionStyleModel",
          "state": {
            "_model_module": "@jupyter-widgets/controls",
            "_model_module_version": "1.5.0",
            "_model_name": "DescriptionStyleModel",
            "_view_count": null,
            "_view_module": "@jupyter-widgets/base",
            "_view_module_version": "1.2.0",
            "_view_name": "StyleView",
            "description_width": ""
          }
        },
        "d93e1c5bea20408b82e8b0be5ae2f63f": {
          "model_module": "@jupyter-widgets/base",
          "model_module_version": "1.2.0",
          "model_name": "LayoutModel",
          "state": {
            "_model_module": "@jupyter-widgets/base",
            "_model_module_version": "1.2.0",
            "_model_name": "LayoutModel",
            "_view_count": null,
            "_view_module": "@jupyter-widgets/base",
            "_view_module_version": "1.2.0",
            "_view_name": "LayoutView",
            "align_content": null,
            "align_items": null,
            "align_self": null,
            "border": null,
            "bottom": null,
            "display": null,
            "flex": null,
            "flex_flow": null,
            "grid_area": null,
            "grid_auto_columns": null,
            "grid_auto_flow": null,
            "grid_auto_rows": null,
            "grid_column": null,
            "grid_gap": null,
            "grid_row": null,
            "grid_template_areas": null,
            "grid_template_columns": null,
            "grid_template_rows": null,
            "height": null,
            "justify_content": null,
            "justify_items": null,
            "left": null,
            "margin": null,
            "max_height": null,
            "max_width": null,
            "min_height": null,
            "min_width": null,
            "object_fit": null,
            "object_position": null,
            "order": null,
            "overflow": null,
            "overflow_x": null,
            "overflow_y": null,
            "padding": null,
            "right": null,
            "top": null,
            "visibility": null,
            "width": null
          }
        },
        "de7e4076977a4521907719635521715f": {
          "model_module": "@jupyter-widgets/base",
          "model_module_version": "1.2.0",
          "model_name": "LayoutModel",
          "state": {
            "_model_module": "@jupyter-widgets/base",
            "_model_module_version": "1.2.0",
            "_model_name": "LayoutModel",
            "_view_count": null,
            "_view_module": "@jupyter-widgets/base",
            "_view_module_version": "1.2.0",
            "_view_name": "LayoutView",
            "align_content": null,
            "align_items": null,
            "align_self": null,
            "border": null,
            "bottom": null,
            "display": null,
            "flex": null,
            "flex_flow": null,
            "grid_area": null,
            "grid_auto_columns": null,
            "grid_auto_flow": null,
            "grid_auto_rows": null,
            "grid_column": null,
            "grid_gap": null,
            "grid_row": null,
            "grid_template_areas": null,
            "grid_template_columns": null,
            "grid_template_rows": null,
            "height": null,
            "justify_content": null,
            "justify_items": null,
            "left": null,
            "margin": null,
            "max_height": null,
            "max_width": null,
            "min_height": null,
            "min_width": null,
            "object_fit": null,
            "object_position": null,
            "order": null,
            "overflow": null,
            "overflow_x": null,
            "overflow_y": null,
            "padding": null,
            "right": null,
            "top": null,
            "visibility": null,
            "width": null
          }
        },
        "e88c29a0e9d6402887b3cbae67c91c75": {
          "model_module": "@jupyter-widgets/controls",
          "model_module_version": "1.5.0",
          "model_name": "HBoxModel",
          "state": {
            "_dom_classes": [],
            "_model_module": "@jupyter-widgets/controls",
            "_model_module_version": "1.5.0",
            "_model_name": "HBoxModel",
            "_view_count": null,
            "_view_module": "@jupyter-widgets/controls",
            "_view_module_version": "1.5.0",
            "_view_name": "HBoxView",
            "box_style": "",
            "children": [
              "IPY_MODEL_1cf4df0bab9e4825ad13d2ef1173de78",
              "IPY_MODEL_1a2aae29c6754426961445f46b4c4c6e",
              "IPY_MODEL_2a3db735b87c4a5fa794b291c587993b"
            ],
            "layout": "IPY_MODEL_de7e4076977a4521907719635521715f"
          }
        }
      }
    }
  },
  "nbformat": 4,
  "nbformat_minor": 0
}